{
 "cells": [
  {
   "cell_type": "markdown",
   "id": "70902885",
   "metadata": {},
   "source": [
    "PART 2 – CAR EVALUATION NEURAL NETWORK (Multi-Class)"
   ]
  },
  {
   "cell_type": "markdown",
   "id": "411d4a84",
   "metadata": {},
   "source": [
    "Objective - Build a neural network classifier to predict a car's acceptability level based on 6 categorical features.\n",
    "Using One-vs-All strategy for multi-class classification."
   ]
  },
  {
   "cell_type": "markdown",
   "id": "bc66dda9",
   "metadata": {},
   "source": [
    "Final Goal:\n",
    "training a neural network to:\n",
    "\n",
    "Predict the correct class\n",
    "\n",
    "Tune performance using regularization and hidden layer size\n",
    "\n",
    "Evaluate accuracy\n",
    "\n",
    "Document results + GitHub-ready code"
   ]
  },
  {
   "cell_type": "markdown",
   "id": "7f800f5d",
   "metadata": {},
   "source": [
    "Label\tNumeric\n",
    "\n",
    "unacc\t0\n",
    "acc\t    1\n",
    "good\t2\n",
    "vgood\t3"
   ]
  },
  {
   "cell_type": "code",
   "execution_count": 4,
   "id": "9b289231",
   "metadata": {},
   "outputs": [
    {
     "data": {
      "text/html": [
       "<div>\n",
       "<style scoped>\n",
       "    .dataframe tbody tr th:only-of-type {\n",
       "        vertical-align: middle;\n",
       "    }\n",
       "\n",
       "    .dataframe tbody tr th {\n",
       "        vertical-align: top;\n",
       "    }\n",
       "\n",
       "    .dataframe thead th {\n",
       "        text-align: right;\n",
       "    }\n",
       "</style>\n",
       "<table border=\"1\" class=\"dataframe\">\n",
       "  <thead>\n",
       "    <tr style=\"text-align: right;\">\n",
       "      <th></th>\n",
       "      <th>buying</th>\n",
       "      <th>maint</th>\n",
       "      <th>doors</th>\n",
       "      <th>persons</th>\n",
       "      <th>lug_boot</th>\n",
       "      <th>safety</th>\n",
       "      <th>class</th>\n",
       "    </tr>\n",
       "  </thead>\n",
       "  <tbody>\n",
       "    <tr>\n",
       "      <th>0</th>\n",
       "      <td>vhigh</td>\n",
       "      <td>vhigh</td>\n",
       "      <td>2</td>\n",
       "      <td>2</td>\n",
       "      <td>small</td>\n",
       "      <td>low</td>\n",
       "      <td>unacc</td>\n",
       "    </tr>\n",
       "    <tr>\n",
       "      <th>1</th>\n",
       "      <td>vhigh</td>\n",
       "      <td>vhigh</td>\n",
       "      <td>2</td>\n",
       "      <td>2</td>\n",
       "      <td>small</td>\n",
       "      <td>med</td>\n",
       "      <td>unacc</td>\n",
       "    </tr>\n",
       "    <tr>\n",
       "      <th>2</th>\n",
       "      <td>vhigh</td>\n",
       "      <td>vhigh</td>\n",
       "      <td>2</td>\n",
       "      <td>2</td>\n",
       "      <td>small</td>\n",
       "      <td>high</td>\n",
       "      <td>unacc</td>\n",
       "    </tr>\n",
       "    <tr>\n",
       "      <th>3</th>\n",
       "      <td>vhigh</td>\n",
       "      <td>vhigh</td>\n",
       "      <td>2</td>\n",
       "      <td>2</td>\n",
       "      <td>med</td>\n",
       "      <td>low</td>\n",
       "      <td>unacc</td>\n",
       "    </tr>\n",
       "    <tr>\n",
       "      <th>4</th>\n",
       "      <td>vhigh</td>\n",
       "      <td>vhigh</td>\n",
       "      <td>2</td>\n",
       "      <td>2</td>\n",
       "      <td>med</td>\n",
       "      <td>med</td>\n",
       "      <td>unacc</td>\n",
       "    </tr>\n",
       "  </tbody>\n",
       "</table>\n",
       "</div>"
      ],
      "text/plain": [
       "  buying  maint doors persons lug_boot safety  class\n",
       "0  vhigh  vhigh     2       2    small    low  unacc\n",
       "1  vhigh  vhigh     2       2    small    med  unacc\n",
       "2  vhigh  vhigh     2       2    small   high  unacc\n",
       "3  vhigh  vhigh     2       2      med    low  unacc\n",
       "4  vhigh  vhigh     2       2      med    med  unacc"
      ]
     },
     "execution_count": 4,
     "metadata": {},
     "output_type": "execute_result"
    }
   ],
   "source": [
    "import pandas as pd \n",
    "file_path = r\"D:\\2ndSem\\6003_03_ML\\Assignments\\Lab 4\\car evaluation\\car.data\"\n",
    "column_names = [\"buying\", \"maint\", \"doors\", \"persons\", \"lug_boot\", \"safety\", \"class\"]\n",
    "df = pd.read_csv(file_path, names=column_names)\n",
    "\n",
    "# Display the first few rows to confirm the load\n",
    "df.head()\n"
   ]
  },
  {
   "cell_type": "code",
   "execution_count": 5,
   "id": "98c3fc54",
   "metadata": {},
   "outputs": [
    {
     "name": "stdout",
     "output_type": "stream",
     "text": [
      "✅ Data Split Summary:\n",
      "X_train: (1382, 6)\n",
      "y_train: (1382,)\n",
      "X_test : (346, 6)\n",
      "y_test : (346,)\n"
     ]
    }
   ],
   "source": [
    "from sklearn.preprocessing import LabelEncoder\n",
    "from sklearn.model_selection import train_test_split\n",
    "\n",
    "# Step 1: Encode all categorical columns\n",
    "label_encoders = {}\n",
    "for col in df.columns:\n",
    "    le = LabelEncoder()\n",
    "    df[col] = le.fit_transform(df[col])\n",
    "    label_encoders[col] = le  # Store for inverse transform if needed later\n",
    "\n",
    "# Step 2: Separate features and target\n",
    "X = df.drop(\"class\", axis=1).values  # Input features (6 columns)\n",
    "y = df[\"class\"].values               # Target (labels: 0, 1, 2, 3)\n",
    "\n",
    "# Step 3: Split into 80% train / 20% test\n",
    "X_train, X_test, y_train, y_test = train_test_split(\n",
    "    X, y, test_size=0.2, random_state=42\n",
    ")\n",
    "\n",
    "# Step 4: Print dataset shapes\n",
    "print(\"✅ Data Split Summary:\")\n",
    "print(\"X_train:\", X_train.shape)\n",
    "print(\"y_train:\", y_train.shape)\n",
    "print(\"X_test :\", X_test.shape)\n",
    "print(\"y_test :\", y_test.shape)"
   ]
  },
  {
   "cell_type": "code",
   "execution_count": 7,
   "id": "f8665784",
   "metadata": {},
   "outputs": [],
   "source": [
    "#nn_cost_function \n",
    "\n",
    "def sigmoid(z):\n",
    "    return 1 / (1 + np.exp(-z))\n",
    "\n",
    "def sigmoid_gradient(z):\n",
    "    s = sigmoid(z)\n",
    "    return s * (1 - s)\n",
    "\n",
    "def nn_cost_function(params, input_size, hidden_size, num_labels, X, y, lambda_reg):\n",
    "    m = X.shape[0]\n",
    "\n",
    "    # Step 1: Unroll weights\n",
    "    theta1_end = hidden_size * (input_size + 1)\n",
    "    Theta1 = params[:theta1_end].reshape(hidden_size, input_size + 1)\n",
    "    Theta2 = params[theta1_end:].reshape(num_labels, hidden_size + 1)\n",
    "\n",
    "    # Step 2: Forward Propagation\n",
    "    a1 = np.concatenate([np.ones((m, 1)), X], axis=1)\n",
    "    z2 = a1.dot(Theta1.T)\n",
    "    a2 = np.concatenate([np.ones((m, 1)), sigmoid(z2)], axis=1)\n",
    "    z3 = a2.dot(Theta2.T)\n",
    "    a3 = sigmoid(z3)  # Final prediction (m x num_labels)\n",
    "\n",
    "    # Step 3: Recode y to one-hot encoding\n",
    "    Y = np.eye(num_labels)[y.flatten()]\n",
    "\n",
    "    # Step 4: Cost function with regularization\n",
    "    cost = -1/m * np.sum(Y * np.log(a3) + (1 - Y) * np.log(1 - a3))\n",
    "    reg = (lambda_reg / (2 * m)) * (\n",
    "        np.sum(np.square(Theta1[:, 1:])) + np.sum(np.square(Theta2[:, 1:]))\n",
    "    )\n",
    "    J = cost + reg\n",
    "\n",
    "    # Step 5: Backpropagation\n",
    "    delta3 = a3 - Y\n",
    "    delta2 = delta3.dot(Theta2[:, 1:]) * sigmoid_gradient(z2)\n",
    "    Delta1 = delta2.T.dot(a1)\n",
    "    Delta2 = delta3.T.dot(a2)\n",
    "\n",
    "    # Step 6: Gradients with regularization\n",
    "    Theta1_grad = Delta1 / m\n",
    "    Theta2_grad = Delta2 / m\n",
    "    Theta1_grad[:, 1:] += (lambda_reg / m) * Theta1[:, 1:]\n",
    "    Theta2_grad[:, 1:] += (lambda_reg / m) * Theta2[:, 1:]\n",
    "\n",
    "    # Step 7: Unroll gradients into a vector\n",
    "    grad = np.concatenate([Theta1_grad.ravel(), Theta2_grad.ravel()])\n",
    "    return J, grad"
   ]
  },
  {
   "cell_type": "code",
   "execution_count": 8,
   "id": "2ee32e38",
   "metadata": {},
   "outputs": [],
   "source": [
    "#Initialize Weights\n",
    "from scipy.optimize import minimize\n",
    "import numpy as np\n",
    "\n",
    "def rand_initialize_weights(L_in, L_out):\n",
    "    epsilon_init = 0.12  \n",
    "    return np.random.rand(L_out, L_in + 1) * 2 * epsilon_init - epsilon_init\n",
    "\n",
    "# Set dimensions\n",
    "input_size = X_train.shape[1]      # 6 input features\n",
    "hidden_size = 10                    # 5 hidden neurons\n",
    "num_labels = 4                     # 4 output classes\n",
    "lambda_reg = 0.1                   # Regularization strength\n",
    "\n",
    "# Randomly initialize weights\n",
    "initial_Theta1 = rand_initialize_weights(input_size, hidden_size)\n",
    "initial_Theta2 = rand_initialize_weights(hidden_size, num_labels)\n",
    "\n",
    "# Unroll parameters into a single vector\n",
    "initial_params = np.concatenate([initial_Theta1.ravel(), initial_Theta2.ravel()])"
   ]
  },
  {
   "cell_type": "code",
   "execution_count": 9,
   "id": "239d066b",
   "metadata": {},
   "outputs": [],
   "source": [
    "# Step 1: Cost tracking setup\n",
    "cost_history = []\n",
    "\n",
    "def callback_function(params):\n",
    "    J, _ = nn_cost_function(params, input_size, hidden_size, num_labels, X_train, y_train, lambda_reg)\n",
    "    cost_history.append(J)\n",
    "\n",
    "# Step 2: Wrapper for minimize\n",
    "def cost_func(p):\n",
    "    return nn_cost_function(p, input_size, hidden_size, num_labels, X_train, y_train, lambda_reg)\n",
    "\n",
    "# Step 3: Run optimization with callback\n",
    "result = minimize(fun=cost_func,\n",
    "                  x0=initial_params,\n",
    "                  method='L-BFGS-B',\n",
    "                  jac=True,\n",
    "                  callback=callback_function,  # Track cost\n",
    "                  options={'maxfun': 1000})\n",
    "\n",
    "# Step 4: Get the trained weights\n",
    "trained_params = result.x\n",
    "Theta1 = trained_params[:hidden_size * (input_size + 1)].reshape(hidden_size, input_size + 1)\n",
    "Theta2 = trained_params[hidden_size * (input_size + 1):].reshape(num_labels, hidden_size + 1)\n"
   ]
  },
  {
   "cell_type": "code",
   "execution_count": 10,
   "id": "0f6eab32",
   "metadata": {},
   "outputs": [
    {
     "data": {
      "image/png": "[encoded data removed]",
      "text/plain": [
       "<Figure size 640x480 with 1 Axes>"
      ]
     },
     "metadata": {},
     "output_type": "display_data"
    }
   ],
   "source": [
    "plt.plot(cost_history)\n",
    "plt.xlabel(\"Iteration\")\n",
    "plt.ylabel(\"Cost\")\n",
    "plt.title(\"Training Cost per Iteration\")\n",
    "plt.grid(True)\n",
    "plt.show()"
   ]
  },
  {
   "cell_type": "code",
   "execution_count": 11,
   "id": "780d844e",
   "metadata": {},
   "outputs": [],
   "source": [
    "options={'maxfun': 1000}"
   ]
  },
  {
   "cell_type": "code",
   "execution_count": 12,
   "id": "abdec8de",
   "metadata": {},
   "outputs": [],
   "source": [
    "# Make Predictions and Evaluate Accuracy\n",
    "\n",
    "def predict(Theta1, Theta2, X):\n",
    "    m = X.shape[0]\n",
    "    a1 = np.concatenate([np.ones((m, 1)), X], axis=1)\n",
    "    z2 = a1.dot(Theta1.T)\n",
    "    a2 = np.concatenate([np.ones((m, 1)), sigmoid(z2)], axis=1)\n",
    "    z3 = a2.dot(Theta2.T)\n",
    "    a3 = sigmoid(z3)\n",
    "    \n",
    "    # Pick the class with the highest probability\n",
    "    return np.argmax(a3, axis=1)\n"
   ]
  },
  {
   "cell_type": "code",
   "execution_count": 13,
   "id": "36efe29a",
   "metadata": {},
   "outputs": [
    {
     "name": "stdout",
     "output_type": "stream",
     "text": [
      " Training Accuracy: 96.89%\n",
      " Test Accuracy: 94.22%\n"
     ]
    }
   ],
   "source": [
    "# Predict on training set\n",
    "y_pred_train = predict(Theta1, Theta2, X_train)\n",
    "train_accuracy = np.mean(y_pred_train == y_train) * 100\n",
    "\n",
    "# Predict on test set\n",
    "y_pred_test = predict(Theta1, Theta2, X_test)\n",
    "test_accuracy = np.mean(y_pred_test == y_test) * 100\n",
    "\n",
    "# Print the results\n",
    "print(f\" Training Accuracy: {train_accuracy:.2f}%\")\n",
    "print(f\" Test Accuracy: {test_accuracy:.2f}%\")\n"
   ]
  },
  {
   "cell_type": "code",
   "execution_count": 14,
   "id": "fd7af73b",
   "metadata": {},
   "outputs": [
    {
     "data": {
      "image/png": "[encoded data removed]",
      "text/plain": [
       "<Figure size 640x480 with 2 Axes>"
      ]
     },
     "metadata": {},
     "output_type": "display_data"
    }
   ],
   "source": [
    "from sklearn.metrics import confusion_matrix, ConfusionMatrixDisplay\n",
    "import matplotlib.pyplot as plt\n",
    "\n",
    "# Predict on test set\n",
    "y_pred_test = predict(Theta1, Theta2, X_test)\n",
    "\n",
    "# Generate confusion matrix\n",
    "cm = confusion_matrix(y_test, y_pred_test)\n",
    "\n",
    "# Get class labels from label encoder\n",
    "class_labels = label_encoders[\"class\"].classes_\n",
    "\n",
    "# Display the confusion matrix\n",
    "disp = ConfusionMatrixDisplay(confusion_matrix=cm, display_labels=class_labels)\n",
    "disp.plot(cmap='Blues', xticks_rotation='vertical')\n",
    "plt.title(\"Confusion Matrix (Test Set)\")\n",
    "plt.grid(False)\n",
    "plt.savefig(\"confusion_matrix.png\")\n",
    "plt.show()"
   ]
  }
 ],
 "metadata": {
  "kernelspec": {
   "display_name": "Python 3",
   "language": "python",
   "name": "python3"
  },
  "language_info": {
   "codemirror_mode": {
    "name": "ipython",
    "version": 3
   },
   "file_extension": ".py",
   "mimetype": "text/x-python",
   "name": "python",
   "nbconvert_exporter": "python",
   "pygments_lexer": "ipython3",
   "version": "3.11.9"
  }
 },
 "nbformat": 4,
 "nbformat_minor": 5
}
